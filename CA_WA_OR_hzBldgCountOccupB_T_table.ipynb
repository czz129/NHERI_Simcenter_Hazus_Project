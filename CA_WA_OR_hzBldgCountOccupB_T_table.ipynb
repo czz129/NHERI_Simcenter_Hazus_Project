{
 "cells": [
  {
   "cell_type": "code",
   "execution_count": null,
   "metadata": {
    "colab": {
     "base_uri": "https://localhost:8080/",
     "height": 1000
    },
    "id": "FT_gc9mAq5qb",
    "outputId": "330361e8-0d55-4031-bb49-293b8afa6694"
   },
   "outputs": [],
   "source": [
    "!pip3 install osmnx\n",
    "!pip3 install geojson\n",
    "!pip3 install shapely.constructive\n",
    "import pandas as pd\n",
    "import numpy as np\n",
    "import csv\n",
    "import plotly.express as px\n",
    "import osmnx as ox\n",
    "import geopandas as gpd\n",
    "import json\n",
    "import requests\n",
    "# import regex as re\n",
    "%matplotlib inline\n",
    "from shapely.geometry import Point\n",
    "from geopandas import datasets, GeoDataFrame, read_file"
   ]
  },
  {
   "cell_type": "code",
   "execution_count": null,
   "metadata": {
    "colab": {
     "base_uri": "https://localhost:8080/"
    },
    "id": "GtswuEH784gS",
    "outputId": "52626002-a892-4d05-eb46-b0e4992b133a"
   },
   "outputs": [],
   "source": [
    "from google.colab import drive\n",
    "drive.mount('/content/drive')\n",
    "# workdir = '/content/drive/MyDrive/Colab Notebooks/Hazus Data/' # for Tina\n",
    "workdir = '/content/drive/MyDrive/Hazus Data/'                 # for Adam"
   ]
  },
  {
   "cell_type": "markdown",
   "metadata": {
    "id": "hoStX4J-oO4_"
   },
   "source": [
    "# 1 Importing tables\n",
    "#### The file path is my own file path in the google drive folder. Other people might need to change according to their file path locations in their google drive."
   ]
  },
  {
   "cell_type": "code",
   "execution_count": null,
   "metadata": {
    "id": "D8Q6XIcft-HL"
   },
   "outputs": [],
   "source": [
    "# A function to convert csv file to df\n",
    "\n",
    "def read_tables(path,state):\n",
    "  df = pd.read_csv(path,sep =',')\n",
    "  df['State'] = state\n",
    "  cols = list(df)\n",
    "  cols = [cols[-1]] + cols[:-1]\n",
    "  cols = df[cols]\n",
    "  return cols"
   ]
  },
  {
   "cell_type": "code",
   "execution_count": null,
   "metadata": {
    "colab": {
     "base_uri": "https://localhost:8080/",
     "height": 407
    },
    "id": "_7ousc2eayuV",
    "outputId": "cb807fb6-70e3-4c35-9d07-6808f955f849"
   },
   "outputs": [],
   "source": [
    "local_path_CA_B = '/Hazus_data/hzBldgCountOccupB_hzBldgCountOccuT/CA_hzBldgCountOccupB_table.csv'\n",
    "path_CA_B = f'{workdir}hz_B_T/CA_hzBldgCountOccupB_table.csv'\n",
    "state = 'CA'\n",
    "CA_hzBldgCountOccupB = read_tables(path_CA_B,state)\n",
    "CA_hzBldgCountOccupB"
   ]
  },
  {
   "cell_type": "code",
   "execution_count": null,
   "metadata": {
    "id": "nlrBT36Ha25Y"
   },
   "outputs": [],
   "source": [
    "path_CA_T = f'{workdir}hz_B_T/CA_hzBldgCountOccupT_table.csv'\n",
    "state = 'CA'\n",
    "CA_hzBldgCountOccupT = read_tables(path_CA_T,state)\n",
    "CA_hzBldgCountOccupT"
   ]
  },
  {
   "cell_type": "code",
   "execution_count": null,
   "metadata": {
    "id": "T9-xGdmZnWbJ"
   },
   "outputs": [],
   "source": [
    "path_OR_B = '/content/drive/MyDrive/Colab Notebooks/Hazus Data/hz_B_T/OR_hzBldgCountOccupB_table.csv'\n",
    "state = 'OR'\n",
    "OR_hzBldgCountOccupB = read_tables(path_OR_B,state)\n",
    "OR_hzBldgCountOccupB"
   ]
  },
  {
   "cell_type": "code",
   "execution_count": null,
   "metadata": {
    "id": "irpK2V6ynmE9"
   },
   "outputs": [],
   "source": [
    "path_OR_T = '/content/drive/MyDrive/Colab Notebooks/Hazus Data/hz_B_T/OR_hzBldgCountOccupT_table.csv'\n",
    "state = 'OR'\n",
    "OR_hzBldgCountOccupT = read_tables(path_OR_T,state)\n",
    "OR_hzBldgCountOccupT"
   ]
  },
  {
   "cell_type": "code",
   "execution_count": null,
   "metadata": {
    "id": "oS9h2AfBnwh2"
   },
   "outputs": [],
   "source": [
    "path_WA_B = '/content/drive/MyDrive/Colab Notebooks/Hazus Data/hz_B_T/WA_hzBldgCountOccupB_table.csv'\n",
    "state = 'WA'\n",
    "WA_hzBldgCountOccupB = read_tables(path_WA_B,state)\n",
    "WA_hzBldgCountOccupB"
   ]
  },
  {
   "cell_type": "code",
   "execution_count": null,
   "metadata": {
    "id": "29cNYyvFn8Jq"
   },
   "outputs": [],
   "source": [
    "path_WA_T = '/content/drive/MyDrive/Colab Notebooks/Hazus Data/hz_B_T/WA_hzBldgCountOccupt_table.csv'\n",
    "state = 'WA'\n",
    "WA_hzBldgCountOccupT = read_tables(path_WA_T,state)\n",
    "WA_hzBldgCountOccupT"
   ]
  },
  {
   "cell_type": "code",
   "execution_count": null,
   "metadata": {
    "id": "vVyXdnbcoV7Y"
   },
   "outputs": [],
   "source": [
    "hzBldgCountOccupB_tables = CA_hzBldgCountOccupB.append(OR_hzBldgCountOccupB).append(WA_hzBldgCountOccupB)\n",
    "hzBldgCountOccupB_tables"
   ]
  },
  {
   "cell_type": "code",
   "execution_count": null,
   "metadata": {
    "id": "uU-4SIC_qUpZ"
   },
   "outputs": [],
   "source": [
    "B_len_check = len(CA_hzBldgCountOccupB) + len(OR_hzBldgCountOccupB) + len(WA_hzBldgCountOccupB) == len(hzBldgCountOccupB_tables)\n",
    "B_len_check"
   ]
  },
  {
   "cell_type": "code",
   "execution_count": null,
   "metadata": {
    "id": "2geJGO1KqmKR"
   },
   "outputs": [],
   "source": [
    "hzBldgCountOccupT_tables = CA_hzBldgCountOccupT.append(OR_hzBldgCountOccupT).append(WA_hzBldgCountOccupT)\n",
    "hzBldgCountOccupT_tables"
   ]
  },
  {
   "cell_type": "code",
   "execution_count": null,
   "metadata": {
    "id": "xm6pzhsYrw2u"
   },
   "outputs": [],
   "source": [
    "T_len_check = len(CA_hzBldgCountOccupT) + len(OR_hzBldgCountOccupT) + len(WA_hzBldgCountOccupT) == len(hzBldgCountOccupT_tables)\n",
    "T_len_check"
   ]
  },
  {
   "cell_type": "markdown",
   "metadata": {
    "id": "DyQo1KVwU2_T"
   },
   "source": [
    "# 2 Find Sum of the buildings in hazus data in CA"
   ]
  },
  {
   "cell_type": "code",
   "execution_count": null,
   "metadata": {
    "id": "VUepParqVIId"
   },
   "outputs": [],
   "source": [
    "CA_hzBldgCountOccupB_sum = CA_hzBldgCountOccupB\n",
    "CA_hzBldgCountOccupB_sum['total'] = CA_hzBldgCountOccupB.loc[:,'RES1I':'EDU2I'].sum(axis=1)\n",
    "CA_hzBldgCountOccupB_sum['total'] = CA_hzBldgCountOccupB.loc[:,'RES1I':'EDU2I'].sum(axis=1)\n",
    "CA_hzBldgCountOccupB_sum[\"RES3I_total\"] = CA_hzBldgCountOccupB_sum.loc[:,\"RES3AI\":\"RES3FI\"].sum(axis=1)\n",
    "CA_hzBldgCountOccupB_sum = CA_hzBldgCountOccupB_sum[[\"CensusBlock\",\"RES1I\",\"RES3I_total\",\"total\"]]\n",
    "CA_hzBldgCountOccupB_sum"
   ]
  },
  {
   "cell_type": "markdown",
   "metadata": {
    "id": "HaXRcSi0Z_ej"
   },
   "source": [
    "# 3 Import census block polygon"
   ]
  },
  {
   "cell_type": "markdown",
   "metadata": {
    "id": "T5rkG8b-2UUQ"
   },
   "source": [
    "This is the polygon in alameda county in CA state"
   ]
  },
  {
   "cell_type": "code",
   "execution_count": null,
   "metadata": {
    "colab": {
     "base_uri": "https://localhost:8080/",
     "height": 424
    },
    "id": "pO1n2RuAnh1y",
    "outputId": "93fd43e3-abde-42cd-b4a4-1de5e0d2911b"
   },
   "outputs": [],
   "source": [
    "ST_poly = gpd.read_file(f'{workdir}tabblock2010_06_pophu.zip')\n",
    "ST_poly"
   ]
  },
  {
   "cell_type": "code",
   "execution_count": null,
   "metadata": {
    "colab": {
     "base_uri": "https://localhost:8080/",
     "height": 424
    },
    "id": "XFj_6ONZtWUJ",
    "outputId": "357b6512-557c-4dbc-d684-a2082e41d83b"
   },
   "outputs": [],
   "source": [
    "ALAMEDA_HOUSES = ST_poly.loc[ST_poly['COUNTYFP10']== \"001\"]\n",
    "ALAMEDA_HOUSES = ALAMEDA_HOUSES.to_crs(4326)\n",
    "# ALAMEDA_HOUSES = ALAMEDA_HOUSES.loc[ALAMEDA_HOUSES['HOUSING10'] > 0]\n",
    "ALAMEDA_HOUSES[\"BLOCKID10\"] = ALAMEDA_HOUSES[\"BLOCKID10\"].astype(int)\n",
    "ALAMEDA_HOUSES"
   ]
  },
  {
   "cell_type": "code",
   "execution_count": null,
   "metadata": {
    "colab": {
     "base_uri": "https://localhost:8080/",
     "height": 424
    },
    "id": "3IzC9mpjGOsW",
    "outputId": "afe08484-ba17-40b2-88de-6b51193c9489"
   },
   "outputs": [],
   "source": [
    "CT_poly = gpd.read_file(f'{workdir}CA_ALAMEDA_2010.zip')\n",
    "CT_poly"
   ]
  },
  {
   "cell_type": "code",
   "execution_count": null,
   "metadata": {
    "id": "pbEAHxevZzw1"
   },
   "outputs": [],
   "source": [
    "CT_poly[\"GEOID10\"] = CT_poly[\"GEOID10\"].astype(str).astype(int)"
   ]
  },
  {
   "cell_type": "markdown",
   "metadata": {
    "id": "yNLz4KWxxYuf"
   },
   "source": [
    "Join hazus CA census block table with the census block table from tiger. The next step probably will convert the lat and lon into polygons to compare with footprint."
   ]
  },
  {
   "cell_type": "code",
   "execution_count": null,
   "metadata": {
    "colab": {
     "base_uri": "https://localhost:8080/",
     "height": 641
    },
    "id": "_ifDY2uJvJkX",
    "outputId": "9415e243-3cf4-42a3-b491-4de48d021ed7"
   },
   "outputs": [],
   "source": [
    "join_table = CA_hzBldgCountOccupB_sum.merge(CT_poly, how = 'left',left_on = 'CensusBlock',right_on = 'GEOID10')\n",
    "join_table.dropna()\n",
    "join_table_gpd = gpd.GeoDataFrame(join_table, geometry='geometry', crs=4326)\n",
    "join_table_gpd = join_table_gpd.dropna()\n",
    "join_table_gpd"
   ]
  },
  {
   "cell_type": "markdown",
   "metadata": {
    "id": "Kut1Q4GI19_T"
   },
   "source": [
    "Convert the dataframe to Geopandas Dataframe.\n",
    "Since plotly can't process large datasets, I select the top 1000 row to see if plotly in function normally."
   ]
  },
  {
   "cell_type": "code",
   "execution_count": null,
   "metadata": {
    "colab": {
     "base_uri": "https://localhost:8080/",
     "height": 424
    },
    "id": "90TtxbDqqT2Q",
    "outputId": "f5a39ac9-b976-40a3-a39d-4304e81d47e6"
   },
   "outputs": [],
   "source": [
    "res_plt = join_table_gpd[[\"CensusBlock\",\"total\",\"GEOID10\",\"geometry\",\"RES1I\",\"RES3I_total\"]]\n",
    "res_plt"
   ]
  },
  {
   "cell_type": "code",
   "execution_count": null,
   "metadata": {
    "colab": {
     "base_uri": "https://localhost:8080/",
     "height": 424
    },
    "id": "fxzi1hielyJm",
    "outputId": "4da294ea-21a4-4139-8273-e5426681965e"
   },
   "outputs": [],
   "source": [
    "housing_diff = res_plt.merge(ALAMEDA_HOUSES, how = 'inner', left_on = \"CensusBlock\",right_on = \"BLOCKID10\" )\n",
    "housing_diff = housing_diff[[\"CensusBlock\",\"total\",\"geometry_x\",\"HOUSING10\",\"RES1I\",\"RES3I_total\"]]\n",
    "housing_diff[\"difference\"] = housing_diff[\"HOUSING10\"] - housing_diff[\"total\"]\n",
    "housing_diff_gpd = gpd.GeoDataFrame(housing_diff, geometry='geometry_x', crs=4326)\n",
    "housing_diff_gpd"
   ]
  },
  {
   "cell_type": "markdown",
   "metadata": {
    "id": "qLO-QvSDmA6-"
   },
   "source": [
    "This is the hazus data sum score graph for Alameda county"
   ]
  },
  {
   "cell_type": "code",
   "execution_count": null,
   "metadata": {
    "colab": {
     "base_uri": "https://localhost:8080/",
     "height": 1000
    },
    "id": "P6XVweB0nt7b",
    "outputId": "b3f1cc44-03bc-4c41-c0d3-7c76481430be"
   },
   "outputs": [],
   "source": [
    "place_name = 'Emeryville, California'\n",
    "footprints = ox.geometries_from_place(place_name, tags = {'building': True})\n",
    "footprints.index = np.arange(footprints.shape[0])\n",
    "footprints"
   ]
  },
  {
   "cell_type": "code",
   "execution_count": null,
   "metadata": {
    "colab": {
     "base_uri": "https://localhost:8080/"
    },
    "id": "L6lKuxt-j43k",
    "outputId": "7d376619-2aee-4794-8a9c-db87290a0078"
   },
   "outputs": [],
   "source": [
    "footprints.columns"
   ]
  },
  {
   "cell_type": "code",
   "execution_count": null,
   "metadata": {
    "colab": {
     "base_uri": "https://localhost:8080/",
     "height": 1000
    },
    "id": "kyl3rCExs3pC",
    "outputId": "67b3e37a-9cd9-4c8c-c324-32625dd35cf0"
   },
   "outputs": [],
   "source": [
    "footprints[\"area\"] = footprints.to_crs({'proj':'cea'}).area\n",
    "footprints = footprints.loc[footprints[\"area\"] >= 50]\n",
    "footprints"
   ]
  },
  {
   "cell_type": "code",
   "execution_count": null,
   "metadata": {
    "colab": {
     "base_uri": "https://localhost:8080/",
     "height": 817
    },
    "id": "rauQWgsPCKjw",
    "outputId": "fbb37484-9545-4ef2-dd16-587945fbaab3"
   },
   "outputs": [],
   "source": [
    "fig = px.choropleth_mapbox(\n",
    "    footprints,\n",
    "    geojson=footprints.geometry,\n",
    "    locations=footprints.index,\n",
    "    center={\"lat\": 37.8384729, \"lon\": -122.3016820},\n",
    "    mapbox_style=\"carto-positron\",\n",
    "    color_continuous_scale='Portland',\n",
    "    opacity=0.9,\n",
    "    zoom=13,\n",
    "    height=800,\n",
    "    width=1000,\n",
    "    title = \"Emeryville Footprints\"\n",
    "  )\n",
    "fig.show()"
   ]
  },
  {
   "cell_type": "code",
   "execution_count": null,
   "metadata": {
    "id": "3o0NW5FCzcIA"
   },
   "outputs": [],
   "source": [
    "res_plt = res_plt.to_crs(4326)\n",
    "fig = px.choropleth_mapbox(\n",
    "    res_plt,\n",
    "    geojson=res_plt.geometry,\n",
    "    locations=res_plt.index,\n",
    "    color = res_plt.index, #\"total\",\n",
    "    center={\"lat\": 37.8384729, \"lon\": -122.3016820},\n",
    "    mapbox_style=\"carto-positron\",\n",
    "    color_continuous_scale='Portland',\n",
    "    opacity=0.9,\n",
    "    zoom=13,\n",
    "    height=800,\n",
    "    width=1000,\n",
    "    title = \"Alameda County Hazus Score graph\"\n",
    "  )\n",
    "fig.show()"
   ]
  },
  {
   "cell_type": "markdown",
   "metadata": {
    "id": "9uEMbrps74o8"
   },
   "source": [
    "This is the Alameda county housing units in 2010."
   ]
  },
  {
   "cell_type": "code",
   "execution_count": null,
   "metadata": {
    "id": "_uaZl0j0tMzs"
   },
   "outputs": [],
   "source": [
    "ALAMEDA_HOUSES.index = np.arange(ALAMEDA_HOUSES.shape[0])\n",
    "fig = px.choropleth_mapbox(\n",
    "    ALAMEDA_HOUSES,\n",
    "    geojson=ALAMEDA_HOUSES.geometry,\n",
    "    locations=ALAMEDA_HOUSES.index,\n",
    "    color=\"HOUSING10\",\n",
    "    center={\"lat\": 37.8, \"lon\": -122.27},\n",
    "    mapbox_style=\"carto-positron\",\n",
    "    color_continuous_scale='Portland',\n",
    "    opacity=0.9,\n",
    "    zoom=11,\n",
    "    height=800,\n",
    "    range_color = (0,500),\n",
    "    width=1000,\n",
    "    title = \"Alameda County Housing units graph\"\n",
    "  )\n",
    "# fig.update_yaxes(range=[0,500])\n",
    "fig.show()"
   ]
  },
  {
   "cell_type": "code",
   "execution_count": null,
   "metadata": {
    "id": "IjYUjkiVuQGZ"
   },
   "outputs": [],
   "source": [
    "housing_diff_gpd.index = np.arange(housing_diff_gpd.shape[0])\n",
    "fig = px.choropleth_mapbox(\n",
    "    housing_diff_gpd,\n",
    "    geojson=housing_diff_gpd.geometry_x,\n",
    "    locations=housing_diff_gpd.index,\n",
    "    color=\"difference\",\n",
    "    center={\"lat\": 37.8, \"lon\": -122.27},\n",
    "    mapbox_style=\"carto-positron\",\n",
    "    color_continuous_scale='Portland',\n",
    "    opacity=0.9,\n",
    "    zoom=11,\n",
    "    range_color = (-50,500),\n",
    "    height=800,\n",
    "    width=1000,\n",
    "    title =\"The difference between Hazus score and Housing units graph in Alameda County\"\n",
    "  )\n",
    "fig.show()"
   ]
  },
  {
   "cell_type": "markdown",
   "metadata": {
    "id": "x1WdbihLkNCs"
   },
   "source": [
    "# 4 Emeryville maps"
   ]
  },
  {
   "cell_type": "code",
   "execution_count": null,
   "metadata": {
    "colab": {
     "base_uri": "https://localhost:8080/",
     "height": 641
    },
    "id": "nmH_HHUEoFQk",
    "outputId": "4d25ecff-b303-40fa-f81f-4b2cc4ab0a23"
   },
   "outputs": [],
   "source": [
    "emer_hazus = res_plt.to_crs(4326).sjoin(footprints, how = \"inner\")\n",
    "emer_hazus"
   ]
  },
  {
   "cell_type": "code",
   "execution_count": null,
   "metadata": {
    "colab": {
     "base_uri": "https://localhost:8080/",
     "height": 1000
    },
    "id": "EwX_4gXJDTTC",
    "outputId": "0cc33f0f-d382-4d74-acc9-21fd9d410708"
   },
   "outputs": [],
   "source": [
    "fwc = footprints.copy()\n",
    "# we play around with the geometry a bit here\n",
    "# store the polygons in another column\n",
    "fwc['geometry_polygon'] = fwc['geometry'].copy()\n",
    "# load their centroids as the geometry\n",
    "fwc['geometry'] = fwc['geometry'].centroid\n",
    "# use the centroids in the sjoin to have a unique footprint - census block assignment\n",
    "fp_hazus = fwc.sjoin(res_plt.to_crs(4326), how = \"inner\")\n",
    "# save the centroids in another column\n",
    "fp_hazus['geometry_centroid'] = fp_hazus['geometry'].copy()\n",
    "# load back the polygons for future work\n",
    "fp_hazus['geometry'] = fp_hazus['geometry_polygon']\n",
    "fp_hazus"
   ]
  },
  {
   "cell_type": "code",
   "execution_count": null,
   "metadata": {
    "colab": {
     "base_uri": "https://localhost:8080/",
     "height": 817
    },
    "id": "SprwAH11jHwZ",
    "outputId": "7e9a9a27-7e4c-4f20-f6b4-1c9f8c0e6f0d"
   },
   "outputs": [],
   "source": [
    "#emer_hazus.index = np.arange(emer_hazus.shape[0])\n",
    "\n",
    "FP_polygons = fp_hazus.copy()\n",
    "\n",
    "# take the unique Census Block indexes from the footprint dataframe (long, unordered numbers)\n",
    "CB_ids = FP_polygons['index_right'].unique()\n",
    "# and shuffle them (to avoid having nearby census blocks next to each other in the list)\n",
    "np.random.shuffle(CB_ids)\n",
    "\n",
    "# then use the list of indexes to get the census block polygons from res_plt\n",
    "CB_polygons = res_plt.loc[CB_ids].copy()\n",
    "\n",
    "# and add a CID column with an ordered list of ids (we'll use this for coloring)\n",
    "CB_polygons['CID'] = np.arange(CB_polygons.shape[0])\n",
    "# also add an opacity column to have semi-transparent block polygons\n",
    "CB_polygons['opacity'] = 0.25\n",
    "\n",
    "# # now count the number of footprints in each census block\n",
    "FP_polygons['count'] = 1\n",
    "FP_count = FP_polygons.groupby('index_right').sum()\n",
    "# and store the footprint count in the CB dataframe that we've just prepared\n",
    "CB_polygons.loc[FP_count.index, 'footprint_count'] = FP_count['count']\n",
    "\n",
    "# finally, store the unique ID of the census block for each footprint too\n",
    "# (this ensures that we'll give the footprint polygons the right color)\n",
    "for unique_id, original_id in enumerate(CB_ids):\n",
    "  FP_polygons.loc[FP_polygons['index_right']==original_id, 'CID'] = unique_id\n",
    "\n",
    "FP_polygons['CID'] = FP_polygons['CID'].astype(int)\n",
    "# set footprint opacity to 1.0 - i.e., non-transparent\n",
    "FP_polygons['opacity'] = 1.0\n",
    "\n",
    "# concatenate the FP and CB dataframes so that we can plot the shapes together\n",
    "ch_plt = pd.concat([FP_polygons, CB_polygons], axis=0)\n",
    "\n",
    "#ch_plt = ch_plt.iloc[:100]\n",
    "fig = px.choropleth_mapbox(\n",
    "    ch_plt,\n",
    "    geojson=ch_plt.geometry,\n",
    "    locations=ch_plt.index,\n",
    "    color=\"CID\",\n",
    "    hover_name='footprint_count',\n",
    "    center={\"lat\": 37.8, \"lon\": -122.27},\n",
    "    mapbox_style=\"carto-positron\",\n",
    "    color_continuous_scale='Rainbow',\n",
    "    opacity=ch_plt['opacity'],\n",
    "    zoom=11,\n",
    "    range_color = (-50,100),\n",
    "    height=800,\n",
    "    width=1000,\n",
    "    title = \"Emeryville Hazus Score graph\"\n",
    "  )\n",
    "fig.show()"
   ]
  },
  {
   "cell_type": "code",
   "execution_count": null,
   "metadata": {
    "colab": {
     "base_uri": "https://localhost:8080/",
     "height": 424
    },
    "id": "LHOxI_HQNoCb",
    "outputId": "e63ea558-1a6b-41a7-e904-0a7a26bea26f"
   },
   "outputs": [],
   "source": [
    "CB_polygons[\"HZ_diff\"] = CB_polygons[\"total\"]-CB_polygons[\"footprint_count\"]\n",
    "CB_polygons[\"level\"] = pd.cut(x=CB_polygons[\"HZ_diff\"], bins=[-100, -50,-0.01,0.99, 10, 20,50, 200],\n",
    "                    labels=['<-50','<0', '0','0 to 10',\n",
    "                            '10 to 20',\">20\",\">50\"])\n",
    "CB_polygons_dropna = CB_polygons.dropna(subset = [\"HZ_diff\",\"footprint_count\"])\n",
    "CB_polygons_dropna[\"opacity\"] = 0.25\n",
    "CB_polygons_dropna = CB_polygons_dropna[[\"geometry\",\"CensusBlock\",\"total\",\"CID\",\"footprint_count\",\"HZ_diff\",\"level\",\"opacity\",\"RES1I\",\"RES3I_total\"]]\n",
    "CB_polygons_dropna"
   ]
  },
  {
   "cell_type": "code",
   "execution_count": null,
   "metadata": {
    "colab": {
     "base_uri": "https://localhost:8080/",
     "height": 817
    },
    "id": "_MmX7mBsOVjB",
    "outputId": "eb52da76-f836-47fe-ff75-d4c74aba245f"
   },
   "outputs": [],
   "source": [
    "FP_polygons['HZ_diff'] = 0\n",
    "FP_polygons['level'] = '0'\n",
    "FP_polygons[\"RES3I_total\"] = 0\n",
    "FP_polygons[\"RES1I\"] = 0\n",
    "ch_plt = pd.concat([FP_polygons, CB_polygons_dropna], axis=0)\n",
    "\n",
    "fig = px.choropleth_mapbox(\n",
    "    ch_plt,\n",
    "    geojson=ch_plt.geometry,\n",
    "    locations=ch_plt.index,\n",
    "    color=\"HZ_diff\", #HZ_diff\",\n",
    "    hover_name=\"level\",\n",
    "    center={\"lat\": 37.8, \"lon\": -122.27},\n",
    "    mapbox_style=\"carto-positron\",\n",
    "    color_continuous_scale='Rainbow',\n",
    "    opacity=ch_plt['opacity'],\n",
    "    zoom=11,\n",
    "    range_color = (-50,100),\n",
    "    height=800,\n",
    "    width=1000,\n",
    "    title = \"Emeryville Hazus Score difference graph\"\n",
    "  )\n",
    "fig.show()"
   ]
  },
  {
   "cell_type": "code",
   "execution_count": null,
   "metadata": {
    "colab": {
     "base_uri": "https://localhost:8080/",
     "height": 817
    },
    "id": "dcDz7by4oMxX",
    "outputId": "d041c2c6-8da9-4efe-d65e-83144fa52ff9"
   },
   "outputs": [],
   "source": [
    "fig = px.choropleth_mapbox(\n",
    "    ch_plt,\n",
    "    geojson=ch_plt.geometry,\n",
    "    locations=ch_plt.index,\n",
    "    color=\"RES1I\", #HZ_diff\",\n",
    "    hover_name=\"footprint_count\",\n",
    "    center={\"lat\": 37.8, \"lon\": -122.27},\n",
    "    mapbox_style=\"carto-positron\",\n",
    "    color_continuous_scale='Rainbow',\n",
    "    opacity=ch_plt['opacity'],\n",
    "    zoom=11,\n",
    "    range_color = (-50,100),\n",
    "    height=800,\n",
    "    width=1000,\n",
    "    title = \"Emeryville Hazus RES1I graph\"\n",
    "  )\n",
    "fig.show()"
   ]
  },
  {
   "cell_type": "code",
   "execution_count": null,
   "metadata": {
    "colab": {
     "base_uri": "https://localhost:8080/",
     "height": 817
    },
    "id": "f3jNLI3WpTZv",
    "outputId": "c9df2af8-42a0-42bf-9c42-4c18d9537e2a"
   },
   "outputs": [],
   "source": [
    "fig = px.choropleth_mapbox(\n",
    "    ch_plt,\n",
    "    geojson=ch_plt.geometry,\n",
    "    locations=ch_plt.index,\n",
    "    color=\"RES3I_total\", #HZ_diff\",\n",
    "    hover_name=\"footprint_count\",\n",
    "    center={\"lat\": 37.8, \"lon\": -122.27},\n",
    "    mapbox_style=\"carto-positron\",\n",
    "    color_continuous_scale='Rainbow',\n",
    "    opacity=ch_plt['opacity'],\n",
    "    zoom=11,\n",
    "    range_color = (-50,100),\n",
    "    height=800,\n",
    "    width=1000,\n",
    "    title = \"Emeryville Hazus RES3I_total graph\"\n",
    "  )\n",
    "fig.show()"
   ]
  },
  {
   "cell_type": "markdown",
   "metadata": {
    "id": "3RkeXX_LCKym"
   },
   "source": [
    "### Sanity check"
   ]
  },
  {
   "cell_type": "code",
   "execution_count": null,
   "metadata": {
    "colab": {
     "base_uri": "https://localhost:8080/"
    },
    "id": "CbSqyLkGI6vk",
    "outputId": "97fa017d-f633-4662-e6a9-7fe37b3d6c57"
   },
   "outputs": [],
   "source": [
    "ch_plt.loc[8937] # small building check == true"
   ]
  },
  {
   "cell_type": "code",
   "execution_count": null,
   "metadata": {
    "colab": {
     "base_uri": "https://localhost:8080/"
    },
    "id": "8Tu1CMU1feoD",
    "outputId": "32a039c5-5480-424e-e6c6-832d9b82f59b"
   },
   "outputs": [],
   "source": [
    "ch_plt.loc[8930]"
   ]
  },
  {
   "cell_type": "code",
   "execution_count": null,
   "metadata": {
    "colab": {
     "base_uri": "https://localhost:8080/"
    },
    "id": "GHzpDW_hCSP5",
    "outputId": "073541c8-0fef-436a-e42d-37ab0b1e4372"
   },
   "outputs": [],
   "source": [
    "ch_plt.loc[8829] # previous census block check == true"
   ]
  },
  {
   "cell_type": "code",
   "execution_count": null,
   "metadata": {
    "colab": {
     "base_uri": "https://localhost:8080/"
    },
    "id": "rwuFPtcEDH1h",
    "outputId": "33ae5c38-f370-44bc-e5ce-ba0fca43d345"
   },
   "outputs": [],
   "source": [
    "ch_plt.loc[8960] # overlap census block check == false buildings repeatedly counted"
   ]
  },
  {
   "cell_type": "code",
   "execution_count": null,
   "metadata": {
    "colab": {
     "base_uri": "https://localhost:8080/"
    },
    "id": "x16rm9lTDdES",
    "outputId": "a7c5df7f-4725-4603-f4a4-ab4000dec528"
   },
   "outputs": [],
   "source": [
    "ch_plt.loc[8959] # overlap census block check == false"
   ]
  },
  {
   "cell_type": "code",
   "execution_count": null,
   "metadata": {
    "colab": {
     "base_uri": "https://localhost:8080/"
    },
    "id": "jS253Oo5FAIY",
    "outputId": "94c3b6f3-755e-44ec-bae2-2b47db61f099"
   },
   "outputs": [],
   "source": [
    "ch_plt.loc[8818] # overlap census block check == false\n"
   ]
  },
  {
   "cell_type": "code",
   "execution_count": null,
   "metadata": {
    "colab": {
     "base_uri": "https://localhost:8080/"
    },
    "id": "ECL-bKNfF7si",
    "outputId": "f83ab496-26d3-4ee2-9267-cc424001effb"
   },
   "outputs": [],
   "source": [
    "ch_plt.loc[ch_plt[\"index_right\"] == 8819] # footprint counts is correct but one of the buildings is so small\n"
   ]
  },
  {
   "cell_type": "markdown",
   "metadata": {
    "id": "5lNQYVDjJyyT"
   },
   "source": [
    "## Housing Units graph"
   ]
  },
  {
   "cell_type": "code",
   "execution_count": null,
   "metadata": {
    "colab": {
     "base_uri": "https://localhost:8080/",
     "height": 1000
    },
    "id": "-MLsaULqL63N",
    "outputId": "998d424a-3f0d-40ee-c109-23e56249d286"
   },
   "outputs": [],
   "source": [
    "display(ALAMEDA_HOUSES)\n",
    "display(emer_hazus)"
   ]
  },
  {
   "cell_type": "code",
   "execution_count": null,
   "metadata": {
    "id": "iRDHoBctQNAI"
   },
   "outputs": [],
   "source": [
    "block_id = ch_plt[\"CensusBlock\"]"
   ]
  },
  {
   "cell_type": "code",
   "execution_count": null,
   "metadata": {
    "colab": {
     "base_uri": "https://localhost:8080/",
     "height": 363
    },
    "id": "XqEQygERMrhH",
    "outputId": "c0bf0e87-aad4-4345-ffe0-c8c45ff172b4"
   },
   "outputs": [],
   "source": [
    "emer_diff_on_levels = ALAMEDA_HOUSES.sjoin(res_plt.to_crs(4326), how = \"inner\", predicate = \"contains\")\n",
    "emer_diff_on_levels.head(10)"
   ]
  },
  {
   "cell_type": "code",
   "execution_count": null,
   "metadata": {
    "colab": {
     "base_uri": "https://localhost:8080/",
     "height": 1000
    },
    "id": "r3SEjQQOQ5ko",
    "outputId": "898ccea1-0f01-480c-a9cc-22ef938e3d09"
   },
   "outputs": [],
   "source": [
    "HS_diff = emer_diff_on_levels.loc[emer_diff_on_levels[\"CensusBlock\"].isin(block_id)]\n",
    "HS_diff[\"HS_diff\"] = HS_diff[\"HOUSING10\"] - HS_diff[\"total\"]\n",
    "HS_diff['geometry_polygon'] = HS_diff['geometry'].copy()\n",
    "# load their centroids as the geometry\n",
    "HS_diff['geometry'] = HS_diff['geometry'].centroid\n",
    "# use the centroids in the sjoin to have a unique footprint - census block assignment\n",
    "# fp_hazus = fwc.sjoin(res_plt.to_crs(4326), how = \"inner\")\n",
    "# save the centroids in another column\n",
    "HS_diff['geometry_centroid'] = HS_diff['geometry'].copy()\n",
    "# load back the polygons for future work\n",
    "HS_diff['geometry'] = HS_diff['geometry_polygon']\n",
    "HS_diff.to_crs(4326)\n",
    "HS_diff = HS_diff[[\"HOUSING10\",\"geometry\",\"index_right\",\"CensusBlock\",\"total\",\"HS_diff\",\"geometry_polygon\",\"geometry_centroid\"]]\n",
    "HS_diff[\"opacity\"] = 0.25\n",
    "HS_diff"
   ]
  },
  {
   "cell_type": "code",
   "execution_count": null,
   "metadata": {
    "colab": {
     "base_uri": "https://localhost:8080/",
     "height": 817
    },
    "id": "hUlrSH5UACkA",
    "outputId": "64a03a5f-f8e6-4cd0-c42e-d43b254cbc2d"
   },
   "outputs": [],
   "source": [
    "HS_diff = HS_diff.sort_values(by = \"HS_diff\")\n",
    "HS_diff\n",
    "\n",
    "HS_diff[\"level\"] = pd.cut(x=HS_diff['HS_diff'], bins=[-100, -50,-0.01,0.99, 10, 20,50, 1000],\n",
    "                    labels=['<-50','<0', '0','0 to 10',\n",
    "                            '10 to 20',\">20\",\">50\"])\n",
    "HS_diff.index = HS_diff[\"index_right\"]\n",
    "fig = px.choropleth_mapbox(\n",
    "    HS_diff,\n",
    "    geojson=HS_diff.geometry,\n",
    "    locations=HS_diff.index,\n",
    "    color=\"HS_diff\",\n",
    "    hover_name=\"level\",\n",
    "    center={\"lat\": 37.8, \"lon\": -122.27},\n",
    "    mapbox_style=\"carto-positron\",\n",
    "    color_continuous_scale='Rainbow',\n",
    "    opacity=HS_diff['opacity'],\n",
    "    zoom=11,\n",
    "    range_color = (-50,100),\n",
    "    height=800,\n",
    "    width=1000,\n",
    "    title = \"Emeryville Hazus Score difference graph\"\n",
    "  )\n",
    "fig.show()"
   ]
  },
  {
   "cell_type": "code",
   "execution_count": null,
   "metadata": {
    "id": "TqZ02C9OMmiB"
   },
   "outputs": [],
   "source": [
    "HZ_HS_diff = HS_diff.copy()\n",
    "HZ_HS_diff = HS_diff.merge(ch_plt, on = \"CensusBlock\")\n",
    "HZ_HS_diff[\"total_diff\"] = abs(HZ_HS_diff[\"HS_diff\"]) - abs(HZ_HS_diff[\"HZ_diff\"])\n",
    "HZ_HS_diff = gpd.GeoDataFrame(HZ_HS_diff,geometry=\"geometry_x\")\n"
   ]
  },
  {
   "cell_type": "code",
   "execution_count": null,
   "metadata": {
    "id": "POq2Pz4vVX6t"
   },
   "outputs": [],
   "source": [
    "HZ_HS_diff.index = HZ_HS_diff[\"index_right\"]\n",
    "fig = px.choropleth_mapbox(\n",
    "    HZ_HS_diff,\n",
    "    geojson=HZ_HS_diff.geometry_x,\n",
    "    locations=HZ_HS_diff.index,\n",
    "    color=\"total_diff\",\n",
    "    hover_name=\"level_x\",\n",
    "    center={\"lat\": 37.8, \"lon\": -122.27},\n",
    "    mapbox_style=\"carto-positron\",\n",
    "    color_continuous_scale='Rainbow',\n",
    "    opacity=HS_diff['opacity'],\n",
    "    zoom=11,\n",
    "    range_color = (-50,100),\n",
    "    height=800,\n",
    "    width=1000,\n",
    "    title = \"Emeryville Hazus Score difference graph\"\n",
    "  )\n",
    "fig.show()"
   ]
  },
  {
   "cell_type": "markdown",
   "metadata": {
    "id": "Wuc8lNStveDq"
   },
   "source": [
    "# Brookyln Area Check"
   ]
  },
  {
   "cell_type": "code",
   "execution_count": null,
   "metadata": {
    "colab": {
     "base_uri": "https://localhost:8080/",
     "height": 424
    },
    "id": "_j7aOKvXvijV",
    "outputId": "8f56eb3f-1950-498d-80c6-c7cc5700a567"
   },
   "outputs": [],
   "source": [
    "# Read dataframe from Hazus\n",
    "path_CA_B = f'{workdir}NY_hzBldgCountOccupB.csv'\n",
    "state = 'NY'\n",
    "NY_hzBldgCountOccupB = read_tables(path_CA_B,state)\n",
    "# Sum the total score for NY\n",
    "NY_hzBldgCountOccupB_sum = NY_hzBldgCountOccupB.copy()\n",
    "NY_hzBldgCountOccupB_sum['total'] = NY_hzBldgCountOccupB.loc[:,'RES1I':'EDU2I'].sum(axis=1)\n",
    "NY_hzBldgCountOccupB_sum['total_RES'] = NY_hzBldgCountOccupB.loc[:,'RES1I':'RES3FI'].sum(axis=1)\n",
    "NY_hzBldgCountOccupB_sum = NY_hzBldgCountOccupB_sum[[\"CensusBlock\",\"RES1I\",\"RES3AI\",\"RES3BI\",\"RES3CI\",\"RES3DI\",\"RES3EI\",\"RES3FI\",\"total\",\"total_RES\"]]\n",
    "NY_hzBldgCountOccupB_sum[\"RES3I_total\"] = NY_hzBldgCountOccupB_sum.loc[:,\"RES3AI\":\"RES3FI\"].sum(axis=1)\n",
    "NY_hzBldgCountOccupB_sum = NY_hzBldgCountOccupB_sum[[\"CensusBlock\",\"RES1I\",\"RES3I_total\",\"total\",\"total_RES\"]]\n",
    "NY_hzBldgCountOccupB_sum"
   ]
  },
  {
   "cell_type": "code",
   "execution_count": null,
   "metadata": {
    "colab": {
     "base_uri": "https://localhost:8080/"
    },
    "id": "vghJ5BM0Fpt9",
    "outputId": "a3545504-0cd6-4c5a-d531-617431c328fa"
   },
   "outputs": [],
   "source": [
    "NY_hzBldgCountOccupB.columns"
   ]
  },
  {
   "cell_type": "code",
   "execution_count": null,
   "metadata": {
    "colab": {
     "base_uri": "https://localhost:8080/",
     "height": 1000
    },
    "id": "ilrMFlcfyG3_",
    "outputId": "f863c879-0b60-4da9-bc19-4d94090b7ebd"
   },
   "outputs": [],
   "source": [
    "place_name = \"Park Slope, Kings County, New York, United States\"\n",
    "NY_footprints = ox.geometries_from_place(place_name, tags = {'building': True})\n",
    "NY_footprints.index = np.arange(NY_footprints.shape[0])\n",
    "NY_footprints"
   ]
  },
  {
   "cell_type": "code",
   "execution_count": null,
   "metadata": {
    "colab": {
     "base_uri": "https://localhost:8080/",
     "height": 1000
    },
    "id": "5uyf8goVzMtX",
    "outputId": "ebb049af-eefa-4793-bcb5-d50eb917c70c"
   },
   "outputs": [],
   "source": [
    "NY_footprints = NY_footprints.copy()\n",
    "NY_footprints[\"area\"] = NY_footprints[\"geometry\"].to_crs({'proj':'cea'}).area\n",
    "NY_footprints = NY_footprints.loc[NY_footprints[\"area\"] >= 50]\n",
    "NY_footprints"
   ]
  },
  {
   "cell_type": "code",
   "execution_count": null,
   "metadata": {
    "colab": {
     "base_uri": "https://localhost:8080/",
     "height": 817
    },
    "id": "tGdgNnG85Gjr",
    "outputId": "c8cca1b4-2ca2-4e36-ff23-56643e42a3d2"
   },
   "outputs": [],
   "source": [
    "fig = px.choropleth_mapbox(\n",
    "    NY_footprints,\n",
    "    geojson=NY_footprints.geometry,\n",
    "    locations=NY_footprints.index,\n",
    "    center={\"lat\": 40.67150, \"lon\": -73.97932},\n",
    "    mapbox_style=\"carto-positron\",\n",
    "    color_continuous_scale='Portland',\n",
    "    opacity=0.9,\n",
    "    zoom=13,\n",
    "    height=800,\n",
    "    width=1000,\n",
    "    title = \"Park Slope Footprints\"\n",
    "  )\n",
    "fig.show()"
   ]
  },
  {
   "cell_type": "code",
   "execution_count": null,
   "metadata": {
    "colab": {
     "base_uri": "https://localhost:8080/",
     "height": 424
    },
    "id": "1sC1l-M-6iqF",
    "outputId": "d8b731cd-4b78-45ae-948e-38f1d9abec54"
   },
   "outputs": [],
   "source": [
    "NY_poly = gpd.read_file(f'{workdir}tl_2010_36047_tabblock10.zip')\n",
    "NY_poly"
   ]
  },
  {
   "cell_type": "code",
   "execution_count": null,
   "metadata": {
    "colab": {
     "base_uri": "https://localhost:8080/",
     "height": 424
    },
    "id": "Do8cHsUk7jkI",
    "outputId": "733f8851-f98a-48bb-8ce5-ef23cdabeaf6"
   },
   "outputs": [],
   "source": [
    "NY_poly[\"GEOID10\"] = NY_poly[\"GEOID10\"].astype(str).astype(int)\n",
    "join_table = NY_hzBldgCountOccupB_sum.merge(NY_poly, how = \"inner\", left_on = \"CensusBlock\",right_on = \"GEOID10\")\n",
    "join_table = join_table[[\"CensusBlock\",\"RES1I\",\"RES3I_total\",\"total\",\"total_RES\",\"geometry\",\"GEOID10\"]]\n",
    "PS_plt = join_table.copy()\n",
    "PS_plt = gpd.GeoDataFrame(PS_plt, geometry = \"geometry\", crs = 4326)\n",
    "PS_plt"
   ]
  },
  {
   "cell_type": "code",
   "execution_count": null,
   "metadata": {
    "colab": {
     "base_uri": "https://localhost:8080/"
    },
    "id": "uRHn-O9S01O2",
    "outputId": "12f91fe0-3cd6-4463-8e53-3a986117d697"
   },
   "outputs": [],
   "source": [
    "fwc = NY_footprints.copy()\n",
    "# we play around with the geometry a bit here\n",
    "# store the polygons in another column\n",
    "fwc['geometry_polygon'] = fwc['geometry'].copy()\n",
    "# load their centroids as the geometry\n",
    "fwc['geometry'] = fwc['geometry'].centroid\n",
    "# use the centroids in the sjoin to have a unique footprint - census block assignment\n",
    "PS_hazus = fwc.sjoin(PS_plt.to_crs(4326), how = \"inner\")\n",
    "# save the centroids in another column\n",
    "PS_hazus['geometry_centroid'] = PS_hazus['geometry'].copy()\n",
    "# load back the polygons for future work\n",
    "PS_hazus['geometry'] = PS_hazus['geometry_polygon']"
   ]
  },
  {
   "cell_type": "code",
   "execution_count": null,
   "metadata": {
    "id": "gM61fr9l-VVV"
   },
   "outputs": [],
   "source": [
    "SB_polygons = PS_hazus.copy()\n",
    "CB_ids = SB_polygons[\"index_right\"].unique()\n",
    "np.random.shuffle(CB_ids)\n",
    "CTB_polygons = PS_plt.loc[CB_ids].copy()\n",
    "\n",
    "# take the unique Census Block indexes from the footprint dataframe (long, unordered numbers)\n",
    "CB_ids = SB_polygons['index_right'].unique()\n",
    "# and shuffle them (to avoid having nearby census blocks next to each other in the list)\n",
    "np.random.shuffle(CB_ids)\n",
    "\n",
    "# then use the list of indexes to get the census block polygons from res_plt\n",
    "CTB_polygons = PS_plt.loc[CB_ids].copy()\n",
    "# and add a CID column with an ordered list of ids (we'll use this for coloring)\n",
    "CTB_polygons['CID'] = np.arange(CTB_polygons.shape[0])\n",
    "\n",
    "# # also add an opacity column to have semi-transparent block polygons\n",
    "CTB_polygons['opacity'] = 0.25\n",
    "CTB_polygons\n",
    "# # now count the number of footprints in each census block\n",
    "SB_polygons['count'] = 1\n",
    "FP_count = SB_polygons.groupby('index_right').sum()\n",
    "FP_count\n",
    "# # and store the footprint count in the CB dataframe that we've just prepared\n",
    "CTB_polygons.loc[FP_count.index, 'footprint_count'] = FP_count['count']\n",
    "CTB_polygons\n",
    "# finally, store the unique ID of the census block for each footprint too\n",
    "# (this ensures that we'll give the footprint polygons the right color)\n",
    "for unique_id, original_id in enumerate(CB_ids):\n",
    "  SB_polygons.loc[SB_polygons['index_right']==original_id, 'CID'] = unique_id\n",
    "\n",
    "SB_polygons['CID'] = SB_polygons['CID'].astype(int)\n",
    "# # set footprint opacity to 1.0 - i.e., non-transparent\n",
    "SB_polygons['opacity'] = 1\n",
    "SB_polygons\n",
    "# # concatenate the FP and CB dataframes so that we can plot the shapes together\n",
    "final_plt = pd.concat([SB_polygons, CTB_polygons], axis=0)\n",
    "final_plt = final_plt.reset_index().drop(columns = \"index\")"
   ]
  },
  {
   "cell_type": "code",
   "execution_count": null,
   "metadata": {
    "colab": {
     "base_uri": "https://localhost:8080/",
     "height": 817
    },
    "id": "HKruQ4Fk_cBH",
    "outputId": "1c475559-c519-42cb-d79b-8563fe4c0637"
   },
   "outputs": [],
   "source": [
    "fig = px.choropleth_mapbox(\n",
    "    final_plt,\n",
    "    geojson=final_plt.geometry,\n",
    "    locations=final_plt.index,\n",
    "    color=\"CID\",\n",
    "    hover_name='footprint_count',\n",
    "    center={\"lat\": 40.67105, \"lon\": -73.98099},\n",
    "    mapbox_style=\"carto-positron\",\n",
    "    color_continuous_scale='Rainbow',\n",
    "    opacity= final_plt['opacity'],\n",
    "    zoom=13,\n",
    "    range_color = (-50,100),\n",
    "    height=800,\n",
    "    width=1000,\n",
    "    title = \"Park Slope Hazus Score graph\"\n",
    "  )\n",
    "fig.show()"
   ]
  },
  {
   "cell_type": "code",
   "execution_count": null,
   "metadata": {
    "colab": {
     "base_uri": "https://localhost:8080/",
     "height": 311
    },
    "id": "2xcSI-CUZ_IN",
    "outputId": "5e4e2351-20d5-40b7-f484-d86127169ad0"
   },
   "outputs": [],
   "source": [
    "final_plt = final_plt[[\"geometry\",\"geometry_polygon\",\"index_right\",'CensusBlock', 'total','total_RES', 'RES1I','RES3I_total','GEOID10','geometry_centroid', 'count', 'CID', 'opacity', 'footprint_count']]"
   ]
  },
  {
   "cell_type": "code",
   "execution_count": null,
   "metadata": {
    "colab": {
     "base_uri": "https://localhost:8080/",
     "height": 424
    },
    "id": "Y98KUVMJiYn2",
    "outputId": "f78f13e8-3596-4519-8612-9c22f2fc86f1"
   },
   "outputs": [],
   "source": [
    "CTB_polygons[\"diff\"] = CTB_polygons[\"RES1I\"] + CTB_polygons[\"RES3I_total\"] - CTB_polygons[\"footprint_count\"]\n",
    "CTB_polygons['ratio'] = CTB_polygons[\"RES1I\"]/CTB_polygons[\"total_RES\"]\n",
    "CTB_polygons[\"level\"] = pd.cut(x=CTB_polygons[\"diff\"], bins=[-100, -50,-20,-0.01,0.99, 10, 20,50, 200],\n",
    "                    labels=['<-50','<-20','<0', '0','0 to 10',\n",
    "                            '10 to 20',\">20\",\">50\"])\n",
    "CTB_polygons_dropna = CTB_polygons.dropna(subset = [\"diff\",\"footprint_count\"])\n",
    "CTB_polygons_dropna[\"opacity\"] = 0.25\n",
    "CTB_polygons_dropna = CTB_polygons_dropna[[\"geometry\",\"CensusBlock\",\"total\",\"total_RES\",\"CID\",\"RES1I\",\"RES3I_total\",\"footprint_count\",\"diff\",\"level\",\"opacity\",\"ratio\"]]\n",
    "CTB_polygons_dropna['BG_ID'] = np.array([s[7:-3] for s in CTB_polygons_dropna['CensusBlock'].astype(str)]).astype(int)\n",
    "for unique_id, BG_ID in enumerate(CTB_polygons_dropna['BG_ID'].unique()):\n",
    "  CTB_polygons_dropna.loc[CTB_polygons_dropna['BG_ID']==BG_ID, 'BG_ID_simple'] = unique_id\n",
    "CTB_polygons_dropna"
   ]
  },
  {
   "cell_type": "code",
   "execution_count": null,
   "metadata": {
    "colab": {
     "base_uri": "https://localhost:8080/",
     "height": 817
    },
    "id": "fnmbiOeMGusj",
    "outputId": "87cd08df-7177-42a3-e78c-7d6ce62bdcb9"
   },
   "outputs": [],
   "source": [
    "block_groups = CTB_polygons_dropna.copy()\n",
    "\n",
    "block_groups = block_groups.groupby('BG_ID').sum().loc[:,['total_RES','footprint_count','diff']]\n",
    "\n",
    "px.scatter(block_groups, x='total_RES', y='footprint_count', width=800, height=800)"
   ]
  },
  {
   "cell_type": "code",
   "execution_count": null,
   "metadata": {
    "colab": {
     "base_uri": "https://localhost:8080/",
     "height": 817
    },
    "id": "DOM_uk__8a7f",
    "outputId": "1519f5b9-52b4-4b99-bb3e-709e012e4374"
   },
   "outputs": [],
   "source": [
    "SB_polygons['diff'] = 0\n",
    "SB_polygons['level'] = '0'\n",
    "SB_polygons[\"opacity\"] = 0.5\n",
    "final_diff_plt = pd.concat([SB_polygons, CTB_polygons_dropna], axis=0)\n",
    "final_diff_plt = final_diff_plt.reset_index().drop(columns = \"index\")\n",
    "final_diff_plt\n",
    "\n",
    "cmap = {\n",
    "    '<-50': '#a50026',\n",
    "    '<-20': '#d73027',\n",
    "    '<0': '#f46d43',\n",
    "    '0': '#ffffbf',\n",
    "    '0 to 10': '#e0f3f8',\n",
    "    '10 to 20': '#abd9e9',\n",
    "    \">20\": '#4575b4',\n",
    "    \">50\": '#313695'\n",
    "}\n",
    "\n",
    "fig = px.choropleth_mapbox(\n",
    "    final_diff_plt,\n",
    "    geojson=final_diff_plt.geometry,\n",
    "    locations=final_diff_plt.index,\n",
    "    color=\"level\",\n",
    "    #color=\"BG_ID_simple\",\n",
    "    #color = 'ratio',\n",
    "    hover_name='level',\n",
    "    hover_data=['RES1I','RES3I_total','footprint_count','diff'],\n",
    "    center={\"lat\": 40.67105, \"lon\": -73.98099},\n",
    "    mapbox_style=\"carto-positron\",\n",
    "    #color_continuous_scale='Rainbow',\n",
    "    color_discrete_map= cmap,\n",
    "    opacity= final_diff_plt['opacity'],\n",
    "    zoom=13,\n",
    "    #range_color = (-50,100),\n",
    "    height=800,\n",
    "    width=1000,\n",
    "    title = \"Park Slope Hazus Score diff graph\"\n",
    "  )\n",
    "fig.show()"
   ]
  },
  {
   "cell_type": "code",
   "execution_count": null,
   "metadata": {
    "colab": {
     "base_uri": "https://localhost:8080/",
     "height": 817
    },
    "id": "ncPzXhPi8l0v",
    "outputId": "b39cf9e5-aa62-483f-f0ba-163fc9a94d9f"
   },
   "outputs": [],
   "source": [
    "SB_polygons[\"RES1I\"] = 0\n",
    "SB_polygons[\"RES3I_total\"] = 0\n",
    "RES_plt = pd.concat([SB_polygons,CTB_polygons_dropna], axis = 0)\n",
    "RES_plt = RES_plt.reset_index().drop(columns = \"index\")\n",
    "fig = px.choropleth_mapbox(\n",
    "    RES_plt,\n",
    "    geojson=RES_plt.geometry,\n",
    "    locations=RES_plt.index,\n",
    "    color=\"RES1I\",\n",
    "    hover_name='footprint_count',\n",
    "    center={\"lat\": 40.67105, \"lon\": -73.98099},\n",
    "    mapbox_style=\"carto-positron\",\n",
    "    color_continuous_scale='Rainbow',\n",
    "    opacity= RES_plt['opacity'],\n",
    "    zoom=13,\n",
    "    range_color = (-50,100),\n",
    "    height=800,\n",
    "    width=1000,\n",
    "    title = \"Park Slope Hazus RES1I Score graph\"\n",
    "  )\n",
    "fig.show()"
   ]
  },
  {
   "cell_type": "code",
   "execution_count": null,
   "metadata": {
    "colab": {
     "base_uri": "https://localhost:8080/",
     "height": 817
    },
    "id": "_F6C47q7efgl",
    "outputId": "7a038fec-3ca1-40a2-b953-965978537055"
   },
   "outputs": [],
   "source": [
    "RES_plt = pd.concat([SB_polygons,CTB_polygons_dropna], axis = 0)\n",
    "RES_plt = RES_plt.reset_index().drop(columns = \"index\")\n",
    "fig = px.choropleth_mapbox(\n",
    "    RES_plt,\n",
    "    geojson=RES_plt.geometry,\n",
    "    locations=RES_plt.index,\n",
    "    color=\"RES3I_total\",\n",
    "    hover_name='footprint_count',\n",
    "    hover_data=['RES1I','footprint_count'],\n",
    "    center={\"lat\": 40.67105, \"lon\": -73.98099},\n",
    "    mapbox_style=\"carto-positron\",\n",
    "    color_continuous_scale='Rainbow',\n",
    "    opacity= RES_plt['opacity'],\n",
    "    zoom=13,\n",
    "    #range_color = (-50,100),\n",
    "    height=800,\n",
    "    width=1000,\n",
    "    title = \"Park Slope Hazus RES3I Score graph\"\n",
    "  )\n",
    "fig.show()"
   ]
  },
  {
   "cell_type": "code",
   "execution_count": null,
   "metadata": {
    "id": "eB0sja-siJe2"
   },
   "outputs": [],
   "source": []
  }
 ],
 "metadata": {
  "colab": {
   "collapsed_sections": [
    "3RkeXX_LCKym"
   ],
   "provenance": []
  },
  "gpuClass": "standard",
  "kernelspec": {
   "display_name": "Python 3 (ipykernel)",
   "language": "python",
   "name": "python3"
  },
  "language_info": {
   "codemirror_mode": {
    "name": "ipython",
    "version": 3
   },
   "file_extension": ".py",
   "mimetype": "text/x-python",
   "name": "python",
   "nbconvert_exporter": "python",
   "pygments_lexer": "ipython3",
   "version": "3.9.12"
  }
 },
 "nbformat": 4,
 "nbformat_minor": 4
}
